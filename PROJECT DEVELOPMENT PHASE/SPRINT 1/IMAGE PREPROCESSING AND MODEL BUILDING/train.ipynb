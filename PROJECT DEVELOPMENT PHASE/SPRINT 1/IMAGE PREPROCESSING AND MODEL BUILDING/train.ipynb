{
 "cells": [
  {
   "cell_type": "code",
   "execution_count": null,
   "metadata": {},
   "outputs": [],
   "source": []
  },
  {
   "cell_type": "code",
   "execution_count": null,
   "metadata": {},
   "outputs": [],
   "source": [
    "from keras.preprocessing.image import ImageDataGenerator\n",
    "train_datagen = ImageDataGenerator(rescale = 1./225, shear_range=0.2,zoom_range=0.2,horizontal_flip=True)\n",
    "test_datagen = ImageDataGenerator(rescale = 1./225)"
   ]
  },
  {
   "cell_type": "code",
   "execution_count": null,
   "metadata": {},
   "outputs": [
    {
     "name": "stdout",
     "output_type": "stream",
     "text": [
      "Found 15750 images belonging to 9 classes.\n"
     ]
    }
   ],
   "source": [
    "x_train = train_datagen.flow_from_directory('Dataset/training_set',target_size=(64,64), batch_size=300,class_mode='categorical', color_mode =\"grayscale\")"
   ]
  },
  {
   "cell_type": "code",
   "execution_count": null,
   "metadata": {},
   "outputs": [
    {
     "name": "stdout",
     "output_type": "stream",
     "text": [
      "Found 2250 images belonging to 9 classes.\n"
     ]
    }
   ],
   "source": [
    "x_test = train_datagen.flow_from_directory('Dataset/test_set',target_size=(64,64), batch_size=300,class_mode='categorical', color_mode =\"grayscale\")"
   ]
  },
  {
   "cell_type": "code",
   "execution_count": null,
   "metadata": {},
   "outputs": [],
   "source": [
    "from keras.models import Sequential\n",
    "from keras.layers import Dense\n",
    "from keras.layers import Convolution2D\n",
    "from keras.layers import MaxPooling2D\n",
    "from keras.layers import Dropout\n",
    "from keras.layers import Flatten"
   ]
  },
  {
   "cell_type": "code",
   "execution_count": null,
   "metadata": {},
   "outputs": [],
   "source": [
    "model=Sequential()"
   ]
  },
  {
   "cell_type": "code",
   "execution_count": null,
   "metadata": {},
   "outputs": [],
   "source": [
    "model.add(Convolution2D(32,(3,3), input_shape=(64,64,1), activation = 'relu'))"
   ]
  },
  {
   "cell_type": "code",
   "execution_count": null,
   "metadata": {},
   "outputs": [],
   "source": [
    "model.add(MaxPooling2D(pool_size=(2,2)))"
   ]
  },
  {
   "cell_type": "code",
   "execution_count": null,
   "metadata": {},
   "outputs": [],
   "source": [
    "model.add(Flatten())"
   ]
  },
  {
   "cell_type": "code",
   "execution_count": null,
   "metadata": {},
   "outputs": [],
   "source": [
    "model.add(Dense(units=512,activation='relu'))\n",
    "model.add(Dense(units=9,activation='softmax'))\n"
   ]
  },
  {
   "cell_type": "code",
   "execution_count": null,
   "metadata": {},
   "outputs": [],
   "source": [
    "model.compile(loss='categorical_crossentropy', optimizer='adam', metrics=['accuracy'])"
   ]
  },
  {
   "cell_type": "code",
   "execution_count": null,
   "metadata": {},
   "outputs": [
    {
     "name": "stderr",
     "output_type": "stream",
     "text": [
      "C:\\Users\\BALAJI POWER MART\\AppData\\Local\\Temp\\ipykernel_29496\\1328381784.py:1: UserWarning: `Model.fit_generator` is deprecated and will be removed in a future version. Please use `Model.fit`, which supports generators.\n",
      "  model.fit_generator(x_train, steps_per_epoch=24, epochs=10,validation_data=x_test,validation_steps=40)\n"
     ]
    },
    {
     "name": "stdout",
     "output_type": "stream",
     "text": [
      "Epoch 1/10\n",
      "24/24 [==============================] - ETA: 0s - loss: 1.0462 - accuracy: 0.6904WARNING:tensorflow:Your input ran out of data; interrupting training. Make sure that your dataset or generator can generate at least `steps_per_epoch * epochs` batches (in this case, 40 batches). You may need to use the repeat() function when building your dataset.\n",
      "24/24 [==============================] - 89s 3s/step - loss: 1.0462 - accuracy: 0.6904 - val_loss: 0.4829 - val_accuracy: 0.8716\n",
      "Epoch 2/10\n",
      "24/24 [==============================] - 41s 2s/step - loss: 0.2348 - accuracy: 0.9368\n",
      "Epoch 3/10\n",
      "24/24 [==============================] - 36s 1s/step - loss: 0.1195 - accuracy: 0.9700\n",
      "Epoch 4/10\n",
      "24/24 [==============================] - 35s 1s/step - loss: 0.0633 - accuracy: 0.9854\n",
      "Epoch 5/10\n",
      "24/24 [==============================] - 34s 1s/step - loss: 0.0487 - accuracy: 0.9879\n",
      "Epoch 6/10\n",
      "24/24 [==============================] - 33s 1s/step - loss: 0.0363 - accuracy: 0.9918\n",
      "Epoch 7/10\n",
      "24/24 [==============================] - 34s 1s/step - loss: 0.0320 - accuracy: 0.9918\n",
      "Epoch 8/10\n",
      "24/24 [==============================] - 33s 1s/step - loss: 0.0202 - accuracy: 0.9958\n",
      "Epoch 9/10\n",
      "24/24 [==============================] - 33s 1s/step - loss: 0.0199 - accuracy: 0.9962\n",
      "Epoch 10/10\n",
      "24/24 [==============================] - 34s 1s/step - loss: 0.0134 - accuracy: 0.9972\n"
     ]
    },
    {
     "data": {
      "text/plain": [
       "<keras.callbacks.History at 0x219ed0334c0>"
      ]
     },
     "execution_count": 11,
     "metadata": {},
     "output_type": "execute_result"
    }
   ],
   "source": [
    "model.fit_generator(x_train, steps_per_epoch=24, epochs=10,validation_data=x_test,validation_steps=40)"
   ]
  },
  {
   "cell_type": "code",
   "execution_count": null,
   "metadata": {},
   "outputs": [],
   "source": [
    "model.save('.h5')"
   ]
  }
 ],
 "metadata": {
  "kernelspec": {
   "display_name": "Python 3.9.12 ('base')",
   "language": "python",
   "name": "python3"
  },
  "language_info": {
   "codemirror_mode": {
    "name": "ipython",
    "version": 3
   },
   "file_extension": ".py",
   "mimetype": "text/x-python",
   "name": "python",
   "nbconvert_exporter": "python",
   "pygments_lexer": "ipython3",
   "version": "3.9.12"
  },
  "orig_nbformat": 4,
  "vscode": {
   "interpreter": {
    "hash": "c952e886c51800284c31907fb9fb0752a33b8f0839ac053c2b356e22a3288a83"
   }
  }
 },
 "nbformat": 4,
 "nbformat_minor": 2
}
