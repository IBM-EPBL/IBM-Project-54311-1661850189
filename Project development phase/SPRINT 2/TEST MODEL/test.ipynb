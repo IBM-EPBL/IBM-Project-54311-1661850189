{
 "cells": [
  {
   "cell_type": "code",
   "execution_count": 1,
   "metadata": {},
   "outputs": [],
   "source": [
    "from keras.models import load_model\n",
    "import numpy as np\n",
    "import cv2"
   ]
  },
  {
   "cell_type": "code",
   "execution_count": 2,
   "metadata": {},
   "outputs": [],
   "source": [
    "model=load_model('Balaji.h5')"
   ]
  },
  {
   "cell_type": "code",
   "execution_count": 12,
   "metadata": {},
   "outputs": [
    {
     "name": "stdout",
     "output_type": "stream",
     "text": [
      "[[1.6074194e-08 9.9914765e-01 2.6342215e-04 1.2412619e-05 9.8290046e-05\n",
      "  4.7296938e-04 3.8947828e-08 7.5692981e-07 4.3730997e-06]]\n",
      "1\n"
     ]
    }
   ],
   "source": [
    "from skimage.transform import resize\n",
    "def detect(frame):\n",
    "    img = resize(frame,(64,64,1))\n",
    "    img = np.expand_dims(img,axis=0)\n",
    "    if(np.max(img)>1):\n",
    "        img = img/255.0\n",
    "    prediction = model.predict(img)\n",
    "    print(prediction)\n",
    "    predictions = np.argmax(model.predict(img), axis=1)\n",
    "    print(predictions[0])\n",
    "   \n",
    "\n",
    "frame=cv2.imread(r\"E:\\Development\\Dataset\\test_set\\B\\1.png\")\n",
    "data= detect(frame)"
   ]
  }
 ],
 "metadata": {
  "kernelspec": {
   "display_name": "Python 3.9.12 ('base')",
   "language": "python",
   "name": "python3"
  },
  "language_info": {
   "codemirror_mode": {
    "name": "ipython",
    "version": 3
   },
   "file_extension": ".py",
   "mimetype": "text/x-python",
   "name": "python",
   "nbconvert_exporter": "python",
   "pygments_lexer": "ipython3",
   "version": "3.9.12"
  },
  "orig_nbformat": 4,
  "vscode": {
   "interpreter": {
    "hash": "c952e886c51800284c31907fb9fb0752a33b8f0839ac053c2b356e22a3288a83"
   }
  }
 },
 "nbformat": 4,
 "nbformat_minor": 2
}
